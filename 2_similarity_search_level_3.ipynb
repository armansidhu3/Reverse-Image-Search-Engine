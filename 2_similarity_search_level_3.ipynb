{
  "nbformat": 4,
  "nbformat_minor": 0,
  "metadata": {
    "kernelspec": {
      "display_name": "Python 3",
      "language": "python",
      "name": "python3"
    },
    "language_info": {
      "codemirror_mode": {
        "name": "ipython",
        "version": 3
      },
      "file_extension": ".py",
      "mimetype": "text/x-python",
      "name": "python",
      "nbconvert_exporter": "python",
      "pygments_lexer": "ipython3",
      "version": "3.6.8"
    },
    "toc": {
      "base_numbering": 1,
      "nav_menu": {},
      "number_sections": true,
      "sideBar": true,
      "skip_h1_title": false,
      "title_cell": "Table of Contents",
      "title_sidebar": "Contents",
      "toc_cell": false,
      "toc_position": {},
      "toc_section_display": true,
      "toc_window_display": false
    },
    "colab": {
      "name": "2-similarity-search-level-3.ipynb",
      "provenance": []
    }
  },
  "cells": [
    {
      "cell_type": "markdown",
      "metadata": {
        "id": "jEcTTuZQL6MW",
        "colab_type": "text"
      },
      "source": [
        "# Similarity Search\n",
        "\n",
        "## Level 3\n",
        "\n",
        "So far we experimented with different visualization techniques on the results, t-SNE and PCA on the results. Now we will calculate the accuracies of the features obtained from the pretrained and finetuned models."
      ]
    },
    {
      "cell_type": "code",
      "metadata": {
        "id": "szi6I4loL6MX",
        "colab_type": "code",
        "colab": {}
      },
      "source": [
        "import numpy as np\n",
        "import pickle\n",
        "from tqdm import tqdm, tqdm_notebook\n",
        "import random\n",
        "import time\n",
        "from sklearn.manifold import TSNE\n",
        "from sklearn.decomposition import PCA\n",
        "import PIL\n",
        "from PIL import Image\n",
        "from sklearn.neighbors import NearestNeighbors\n",
        "\n",
        "import glob\n",
        "import matplotlib\n",
        "import matplotlib.pyplot as plt\n",
        "import matplotlib.image as mpimg\n",
        "%matplotlib inline"
      ],
      "execution_count": null,
      "outputs": []
    },
    {
      "cell_type": "markdown",
      "metadata": {
        "id": "STlFdFADL6Mc",
        "colab_type": "text"
      },
      "source": [
        "For these experiments we will use the same features of the Caltech101 dataset that we were using before.\n",
        "\n",
        "Let's utilize the features from the previously trained model."
      ]
    },
    {
      "cell_type": "code",
      "metadata": {
        "id": "J3dG6iVjL6Md",
        "colab_type": "code",
        "colab": {}
      },
      "source": [
        "filenames = pickle.load(open('data/filenames-caltech101.pickle', 'rb'))\n",
        "feature_list = pickle.load(open('data/features-caltech101-resnet.pickle',\n",
        "                                'rb'))\n",
        "class_ids = pickle.load(open('data/class_ids-caltech101.pickle', 'rb'))\n",
        "\n",
        "num_images = len(filenames)\n",
        "num_features_per_image = len(feature_list[0])\n",
        "print(\"Number of images = \", num_images)\n",
        "print(\"Number of features per image = \", num_features_per_image)"
      ],
      "execution_count": null,
      "outputs": []
    },
    {
      "cell_type": "markdown",
      "metadata": {
        "id": "rvddg2GAL6Mh",
        "colab_type": "text"
      },
      "source": [
        "First, let's make a helper function that calculates the accuracy of the resultant features using the nearest neighbors brute force algorithm."
      ]
    },
    {
      "cell_type": "code",
      "metadata": {
        "id": "9k1XM3NfL6Mi",
        "colab_type": "code",
        "colab": {}
      },
      "source": [
        "# Helper function to get the classname\n",
        "def classname(str):\n",
        "    return str.split('/')[-2]\n",
        "\n",
        "\n",
        "# Helper function to get the classname and filename\n",
        "def classname_filename(str):\n",
        "    return str.split('/')[-2] + '/' + str.split('/')[-1]\n",
        "\n",
        "\n",
        "def calculate_accuracy(feature_list):\n",
        "    num_nearest_neighbors = 5\n",
        "    correct_predictions = 0\n",
        "    incorrect_predictions = 0\n",
        "    neighbors = NearestNeighbors(n_neighbors=num_nearest_neighbors,\n",
        "                                 algorithm='brute',\n",
        "                                 metric='euclidean').fit(feature_list)\n",
        "    for i in tqdm_notebook(range(len(feature_list))):\n",
        "        distances, indices = neighbors.kneighbors([feature_list[i]])\n",
        "        for j in range(1, num_nearest_neighbors):\n",
        "            if (classname(filenames[i]) == classname(\n",
        "                    filenames[indices[0][j]])):\n",
        "                correct_predictions += 1\n",
        "            else:\n",
        "                incorrect_predictions += 1\n",
        "    print(\n",
        "        \"Accuracy is \",\n",
        "        round(\n",
        "            100.0 * correct_predictions /\n",
        "            (1.0 * correct_predictions + incorrect_predictions), 2))"
      ],
      "execution_count": null,
      "outputs": []
    },
    {
      "cell_type": "markdown",
      "metadata": {
        "id": "QJXjctZrL6Mm",
        "colab_type": "text"
      },
      "source": [
        "### 1. Accuracy of Brute Force over Caltech101 features"
      ]
    },
    {
      "cell_type": "code",
      "metadata": {
        "id": "KFJbtFY0L6Mm",
        "colab_type": "code",
        "colab": {}
      },
      "source": [
        "# Calculate accuracy\n",
        "calculate_accuracy(feature_list[:])"
      ],
      "execution_count": null,
      "outputs": []
    },
    {
      "cell_type": "markdown",
      "metadata": {
        "id": "GccSKFVKL6Mq",
        "colab_type": "text"
      },
      "source": [
        "### 2. Accuracy of Brute Force over the PCA compressed Caltech101 features"
      ]
    },
    {
      "cell_type": "code",
      "metadata": {
        "id": "dyK0-s2pL6Mr",
        "colab_type": "code",
        "colab": {}
      },
      "source": [
        "num_feature_dimensions = 100\n",
        "pca = PCA(n_components=num_feature_dimensions)\n",
        "pca.fit(feature_list)\n",
        "feature_list_compressed = pca.transform(feature_list[:])"
      ],
      "execution_count": null,
      "outputs": []
    },
    {
      "cell_type": "markdown",
      "metadata": {
        "id": "zW6sKoapL6Mu",
        "colab_type": "text"
      },
      "source": [
        "Let's calculate accuracy over the compressed features."
      ]
    },
    {
      "cell_type": "code",
      "metadata": {
        "scrolled": true,
        "id": "w6cnvh2AL6Mv",
        "colab_type": "code",
        "colab": {}
      },
      "source": [
        "calculate_accuracy(feature_list_compressed[:])"
      ],
      "execution_count": null,
      "outputs": []
    },
    {
      "cell_type": "markdown",
      "metadata": {
        "id": "EzefQ6rnL6M0",
        "colab_type": "text"
      },
      "source": [
        "### 3. Accuracy of Brute Force over the finetuned Caltech101 features"
      ]
    },
    {
      "cell_type": "code",
      "metadata": {
        "id": "2D8NZ1XLL6M1",
        "colab_type": "code",
        "colab": {}
      },
      "source": [
        "# Use the features from the finetuned model\n",
        "filenames = pickle.load(open('data/filenames-caltech101.pickle', 'rb'))\n",
        "feature_list = pickle.load(\n",
        "    open('data/features-caltech101-resnet-finetuned.pickle', 'rb'))\n",
        "class_ids = pickle.load(open('data/class_ids-caltech101.pickle', 'rb'))"
      ],
      "execution_count": null,
      "outputs": []
    },
    {
      "cell_type": "code",
      "metadata": {
        "id": "sQ1gCdkdL6M4",
        "colab_type": "code",
        "colab": {}
      },
      "source": [
        "num_images = len(filenames)\n",
        "num_features_per_image = len(feature_list[0])\n",
        "print(\"Number of images = \", num_images)\n",
        "print(\"Number of features per image = \", num_features_per_image)"
      ],
      "execution_count": null,
      "outputs": []
    },
    {
      "cell_type": "code",
      "metadata": {
        "id": "Jdb_G0GEL6M8",
        "colab_type": "code",
        "colab": {}
      },
      "source": [
        "# Calculate accuracy\n",
        "calculate_accuracy(feature_list[:])"
      ],
      "execution_count": null,
      "outputs": []
    },
    {
      "cell_type": "markdown",
      "metadata": {
        "id": "w_5v7-FXL6NA",
        "colab_type": "text"
      },
      "source": [
        "### 4. Accuracy of Brute Force over the PCA compressed finetuned Caltech101 features"
      ]
    },
    {
      "cell_type": "code",
      "metadata": {
        "id": "lZpvA82fL6NB",
        "colab_type": "code",
        "colab": {}
      },
      "source": [
        "# Perform PCA\n",
        "num_feature_dimensions = 100\n",
        "pca = PCA(n_components=num_feature_dimensions)\n",
        "pca.fit(feature_list)\n",
        "feature_list_compressed = pca.transform(feature_list[:])"
      ],
      "execution_count": null,
      "outputs": []
    },
    {
      "cell_type": "code",
      "metadata": {
        "id": "oX8bWRNYL6NK",
        "colab_type": "code",
        "colab": {}
      },
      "source": [
        "# Calculate accuracy over the compressed features\n",
        "calculate_accuracy(feature_list_compressed[:])"
      ],
      "execution_count": null,
      "outputs": []
    },
    {
      "cell_type": "markdown",
      "metadata": {
        "id": "gcrV1sNRL6NN",
        "colab_type": "text"
      },
      "source": [
        "### Accuracy \n",
        "\n",
        "These results lead to the accuracy on Caltech101. Repeating Level 3 on the Caltech256 features we get its corresponding accuracy. \n",
        "\n",
        "Accuracy on Caltech101.\n",
        "\n",
        "| Algorithm | Accuracy using Pretrained features| Accuracy using Finetuned features | \n",
        "|-------------|----------------------------|------------------------|\n",
        "| Brute Force | 87.06 | 89.48 | \n",
        "| PCA + Brute Force | 87.65  |  89.39 |\n",
        "\n",
        "\n",
        "Accuracy on Caltech256.\n",
        "\n",
        "| Algorithm | Accuracy using Pretrained features| Accuracy using Finetuned features | \n",
        "|-------------|----------------------------|------------------------|\n",
        "| Brute Force | 58.38 | 96.01 | \n",
        "| PCA + Brute Force | 56.64  | 95.34|"
      ]
    }
  ]
}