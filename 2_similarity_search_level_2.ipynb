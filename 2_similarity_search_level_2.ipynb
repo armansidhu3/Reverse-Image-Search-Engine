{
  "nbformat": 4,
  "nbformat_minor": 0,
  "metadata": {
    "kernelspec": {
      "display_name": "Python 3",
      "language": "python",
      "name": "python3"
    },
    "language_info": {
      "codemirror_mode": {
        "name": "ipython",
        "version": 3
      },
      "file_extension": ".py",
      "mimetype": "text/x-python",
      "name": "python",
      "nbconvert_exporter": "python",
      "pygments_lexer": "ipython3",
      "version": "3.6.8"
    },
    "toc": {
      "base_numbering": 1,
      "nav_menu": {},
      "number_sections": true,
      "sideBar": true,
      "skip_h1_title": false,
      "title_cell": "Table of Contents",
      "title_sidebar": "Contents",
      "toc_cell": false,
      "toc_position": {},
      "toc_section_display": true,
      "toc_window_display": false
    },
    "colab": {
      "name": "2-similarity-search-level-2.ipynb",
      "provenance": [],
      "collapsed_sections": []
    }
  },
  "cells": [
    {
      "cell_type": "markdown",
      "metadata": {
        "id": "GPbUBZwjKdbE",
        "colab_type": "text"
      },
      "source": [
        "# Similarity Search\n",
        "\n",
        "## Level 2\n",
        "\n",
        "We benchmark the algorithms based on the time it takes to index images and locate the most similar image based on its features using the Caltech-101 dataset. We also experiment with t-SNE and PCA.\n",
        "\n",
        "### Understanding the time it takes to index images and locate the most similar image based on its features\n",
        "\n",
        "For these experiments we will use the features of the Caltech101 dataset that we read above.\n",
        "\n",
        "First, let's choose a random image to experiment with. We will be using the same image for all the following experiments."
      ]
    },
    {
      "cell_type": "code",
      "metadata": {
        "id": "c1aiWzFlKdbF",
        "colab_type": "code",
        "colab": {}
      },
      "source": [
        "import numpy as np\n",
        "import pickle\n",
        "from tqdm import tqdm, tqdm_notebook\n",
        "import random\n",
        "import time\n",
        "from sklearn.manifold import TSNE\n",
        "from sklearn.decomposition import PCA\n",
        "import PIL\n",
        "from PIL import Image\n",
        "from sklearn.neighbors import NearestNeighbors\n",
        "\n",
        "import glob\n",
        "import matplotlib\n",
        "import matplotlib.pyplot as plt\n",
        "import matplotlib.image as mpimg\n",
        "%matplotlib inline"
      ],
      "execution_count": null,
      "outputs": []
    },
    {
      "cell_type": "code",
      "metadata": {
        "id": "FSv-_jdhKdbL",
        "colab_type": "code",
        "colab": {}
      },
      "source": [
        "filenames = pickle.load(open('data/filenames-caltech101.pickle', 'rb'))\n",
        "feature_list = pickle.load(open('data/features-caltech101-resnet.pickle',\n",
        "                                'rb'))\n",
        "class_ids = pickle.load(open('data/class_ids-caltech101.pickle', 'rb'))"
      ],
      "execution_count": null,
      "outputs": []
    },
    {
      "cell_type": "code",
      "metadata": {
        "id": "pumaR1WIKdbO",
        "colab_type": "code",
        "colab": {}
      },
      "source": [
        "num_images = len(filenames)\n",
        "num_features_per_image = len(feature_list[0])\n",
        "print(\"Number of images = \", num_images)\n",
        "print(\"Number of features per image = \", num_features_per_image)"
      ],
      "execution_count": null,
      "outputs": []
    },
    {
      "cell_type": "code",
      "metadata": {
        "id": "wCcmwvzsKdbS",
        "colab_type": "code",
        "colab": {}
      },
      "source": [
        "random_image_index = random.randint(0, num_images)"
      ],
      "execution_count": null,
      "outputs": []
    },
    {
      "cell_type": "markdown",
      "metadata": {
        "id": "JHgYtf9CKdbW",
        "colab_type": "text"
      },
      "source": [
        "### Standard features\n",
        "\n",
        "The following experiments are based on the ResNet-50 features derived from the images of the Caltech101 dataset. \n",
        "\n",
        "### Standard features + Brute Force Algorithm on one image\n",
        "\n",
        "We will be timing the indexing for various Nearest Neighbors algorithms, so let's start with timing the indexing for the Brute force algorithm. While running terminal commands in iPython like the `timeit` command, the variables are not stored in memory, so we need to rerun the same command to compute and store the results in the variable. "
      ]
    },
    {
      "cell_type": "code",
      "metadata": {
        "id": "psfpeLVcKdbX",
        "colab_type": "code",
        "colab": {}
      },
      "source": [
        "%timeit NearestNeighbors(n_neighbors=5, algorithm='brute', metric='euclidean').fit(feature_list)\n",
        "neighbors = NearestNeighbors(n_neighbors=5,\n",
        "                             algorithm='brute',\n",
        "                             metric='euclidean').fit(feature_list)"
      ],
      "execution_count": null,
      "outputs": []
    },
    {
      "cell_type": "markdown",
      "metadata": {
        "id": "z0MR3CiJKdbc",
        "colab_type": "text"
      },
      "source": [
        "Now, let's look at the time it takes to search for the nearest neighbors for the selected random image using the trained model with the Brute force algorithm."
      ]
    },
    {
      "cell_type": "code",
      "metadata": {
        "id": "F7YVLHiQKdbd",
        "colab_type": "code",
        "colab": {}
      },
      "source": [
        "%timeit neighbors.kneighbors([feature_list[random_image_index]])"
      ],
      "execution_count": null,
      "outputs": []
    },
    {
      "cell_type": "markdown",
      "metadata": {
        "id": "fzzDpsWoKdbh",
        "colab_type": "text"
      },
      "source": [
        "###  Standard features + k-d Tree Algorithm  on one image\n",
        "\n",
        "Now let's turn our attention to the next nearest neighbors algorithm, the k-d tree. Let's time the indexing for the k-d tree algorithm."
      ]
    },
    {
      "cell_type": "code",
      "metadata": {
        "id": "VVpPP5wUKdbi",
        "colab_type": "code",
        "colab": {}
      },
      "source": [
        "%timeit NearestNeighbors(n_neighbors=5, algorithm='kd_tree').fit(feature_list)\n",
        "neighbors = NearestNeighbors(n_neighbors=5,\n",
        "                             algorithm='kd_tree').fit(feature_list)"
      ],
      "execution_count": null,
      "outputs": []
    },
    {
      "cell_type": "markdown",
      "metadata": {
        "id": "mg4T0WMhKdbm",
        "colab_type": "text"
      },
      "source": [
        "Now, time the search for the same random image using the k-d tree trained model."
      ]
    },
    {
      "cell_type": "code",
      "metadata": {
        "id": "txm-9o9ZKdbn",
        "colab_type": "code",
        "colab": {}
      },
      "source": [
        "%timeit neighbors.kneighbors([feature_list[random_image_index]])"
      ],
      "execution_count": null,
      "outputs": []
    },
    {
      "cell_type": "markdown",
      "metadata": {
        "id": "Pn-v1kQfKdbt",
        "colab_type": "text"
      },
      "source": [
        "###  Standard features + Ball Tree Algorithm  on one image\n",
        "\n",
        "Finally, its time for our last nearest neighbors algorithm - the Ball Tree algorithm. As before, let's calculate the time it takes to train the model."
      ]
    },
    {
      "cell_type": "code",
      "metadata": {
        "id": "3ILnNWypKdbt",
        "colab_type": "code",
        "colab": {}
      },
      "source": [
        "%timeit NearestNeighbors(n_neighbors=5, algorithm='ball_tree').fit(feature_list)\n",
        "neighbors = NearestNeighbors(n_neighbors=5,\n",
        "                             algorithm='ball_tree').fit(feature_list)"
      ],
      "execution_count": null,
      "outputs": []
    },
    {
      "cell_type": "markdown",
      "metadata": {
        "id": "KN97JMHbKdbx",
        "colab_type": "text"
      },
      "source": [
        "As before, let's time the search for the Ball Tree model."
      ]
    },
    {
      "cell_type": "code",
      "metadata": {
        "id": "MR1P3tMVKdbx",
        "colab_type": "code",
        "colab": {}
      },
      "source": [
        "%timeit neighbors.kneighbors([feature_list[random_image_index]])"
      ],
      "execution_count": null,
      "outputs": []
    },
    {
      "cell_type": "markdown",
      "metadata": {
        "id": "oXITt_XmKdb2",
        "colab_type": "text"
      },
      "source": [
        "We will increase the number of our test images so that we can experiment with how the scalability of different nearest neighbors algorithms change. Let's choose a random set of 100 or 1000 images to experiment. \n"
      ]
    },
    {
      "cell_type": "markdown",
      "metadata": {
        "id": "2_5M7RwhKdb2",
        "colab_type": "text"
      },
      "source": [
        "Generate a list of images to do the next set of experiments on."
      ]
    },
    {
      "cell_type": "code",
      "metadata": {
        "id": "D39v_f6hKdb3",
        "colab_type": "code",
        "colab": {}
      },
      "source": [
        "random_image_indices = random.sample(range(0, num_images), 1000)\n",
        "random_feature_list = [\n",
        "    feature_list[each_index] for each_index in random_image_indices\n",
        "]"
      ],
      "execution_count": null,
      "outputs": []
    },
    {
      "cell_type": "markdown",
      "metadata": {
        "id": "2LZ96rgjKdb8",
        "colab_type": "text"
      },
      "source": [
        "### Standard features + Brute Force Algorithm on a set of images\n",
        "\n",
        "Time the search for the Brute force algorithm."
      ]
    },
    {
      "cell_type": "code",
      "metadata": {
        "id": "dltaYd5ZKdb9",
        "colab_type": "code",
        "colab": {}
      },
      "source": [
        "neighbors = NearestNeighbors(n_neighbors=5,\n",
        "                             algorithm='brute',\n",
        "                             metric='euclidean').fit(feature_list)\n",
        "%timeit neighbors.kneighbors(random_feature_list)"
      ],
      "execution_count": null,
      "outputs": []
    },
    {
      "cell_type": "markdown",
      "metadata": {
        "id": "8w0U0FRcKdcA",
        "colab_type": "text"
      },
      "source": [
        "### Standard features +  k-d Tree Algorithm on a set of images\n",
        "\n",
        "Time the search for the k-d tree algorithm."
      ]
    },
    {
      "cell_type": "code",
      "metadata": {
        "id": "dMTpaKHKKdcA",
        "colab_type": "code",
        "colab": {}
      },
      "source": [
        "neighbors = NearestNeighbors(n_neighbors=5,\n",
        "                             algorithm='kd_tree').fit(feature_list)\n",
        "%timeit neighbors.kneighbors(random_feature_list)"
      ],
      "execution_count": null,
      "outputs": []
    },
    {
      "cell_type": "markdown",
      "metadata": {
        "id": "qOVeH2CMKdcE",
        "colab_type": "text"
      },
      "source": [
        "### Standard features +  Ball Tree Algorithm on a set of images\n",
        "\n",
        "Time the search for the Ball Tree algorithm."
      ]
    },
    {
      "cell_type": "code",
      "metadata": {
        "id": "Y-1avs2-KdcF",
        "colab_type": "code",
        "colab": {}
      },
      "source": [
        "neighbors = NearestNeighbors(n_neighbors=5,\n",
        "                             algorithm='ball_tree').fit(feature_list)\n",
        "%timeit neighbors.kneighbors(random_feature_list)"
      ],
      "execution_count": null,
      "outputs": []
    },
    {
      "cell_type": "markdown",
      "metadata": {
        "id": "M4vxxlFAKdcK",
        "colab_type": "text"
      },
      "source": [
        "### PCA\n",
        "\n",
        "Now we have seen the time it takes to index and search using nearest neighbor algorithms on the full feature length. We can use PCA to compress the features and reduce the time. As before we set the number of features intended."
      ]
    },
    {
      "cell_type": "code",
      "metadata": {
        "id": "L1wkZVsuKdcK",
        "colab_type": "code",
        "colab": {}
      },
      "source": [
        "num_feature_dimensions = 100\n",
        "num_feature_dimensions = min(num_images, num_feature_dimensions,\n",
        "                             len(feature_list[0]))"
      ],
      "execution_count": null,
      "outputs": []
    },
    {
      "cell_type": "markdown",
      "metadata": {
        "id": "0NZdoHasKdcR",
        "colab_type": "text"
      },
      "source": [
        "Train the PCA model with the number of desired feature dimensions."
      ]
    },
    {
      "cell_type": "code",
      "metadata": {
        "id": "S0_7gjWUKdcS",
        "colab_type": "code",
        "colab": {}
      },
      "source": [
        "pca = PCA(n_components=num_feature_dimensions)\n",
        "pca.fit(feature_list)\n",
        "feature_list_compressed = pca.transform(feature_list)\n",
        "feature_list_compressed = feature_list_compressed.tolist()"
      ],
      "execution_count": null,
      "outputs": []
    },
    {
      "cell_type": "markdown",
      "metadata": {
        "id": "fIk_rhkEKdcV",
        "colab_type": "text"
      },
      "source": [
        "Let's try to understand the importance of each of the resultant features. The numbers displayed below show the relative importance of the first 20 features."
      ]
    },
    {
      "cell_type": "code",
      "metadata": {
        "id": "iR_6Wq57KdcV",
        "colab_type": "code",
        "colab": {}
      },
      "source": [
        "print(pca.explained_variance_ratio_[0:20])"
      ],
      "execution_count": null,
      "outputs": []
    },
    {
      "cell_type": "markdown",
      "metadata": {
        "id": "vt9lF0QxKdcY",
        "colab_type": "text"
      },
      "source": [
        "Repeat the timing experiments. We use the same random image to experiment."
      ]
    },
    {
      "cell_type": "markdown",
      "metadata": {
        "id": "Nds_POg-KdcY",
        "colab_type": "text"
      },
      "source": [
        "### PCA + Brute Force Algorithm on one image\n",
        "\n",
        "Let's time the indexing for the brute force algorithm."
      ]
    },
    {
      "cell_type": "code",
      "metadata": {
        "id": "2R47QArTKdcZ",
        "colab_type": "code",
        "colab": {}
      },
      "source": [
        "%timeit NearestNeighbors(n_neighbors=5, algorithm='brute', metric='euclidean').fit(feature_list_compressed)\n",
        "neighbors = NearestNeighbors(n_neighbors=5,\n",
        "                             algorithm='brute',\n",
        "                             metric='euclidean').fit(feature_list_compressed)"
      ],
      "execution_count": null,
      "outputs": []
    },
    {
      "cell_type": "markdown",
      "metadata": {
        "id": "vsI-_5kqKdcd",
        "colab_type": "text"
      },
      "source": [
        "We will now time the search for the brute force algorithm."
      ]
    },
    {
      "cell_type": "code",
      "metadata": {
        "scrolled": false,
        "id": "i3iJaR5FKdcd",
        "colab_type": "code",
        "colab": {}
      },
      "source": [
        "%timeit neighbors.kneighbors([feature_list_compressed[random_image_index]])"
      ],
      "execution_count": null,
      "outputs": []
    },
    {
      "cell_type": "markdown",
      "metadata": {
        "id": "08Hcr4B_Kdcg",
        "colab_type": "text"
      },
      "source": [
        "###  PCA + k-d Tree Algorithm  on one image\n",
        "\n",
        "Time the indexing for the k-d tree algorithm."
      ]
    },
    {
      "cell_type": "code",
      "metadata": {
        "id": "KZpyPnU5Kdch",
        "colab_type": "code",
        "colab": {}
      },
      "source": [
        "%timeit NearestNeighbors(n_neighbors=5, algorithm='kd_tree').fit(feature_list_compressed)\n",
        "neighbors = NearestNeighbors(n_neighbors=5,\n",
        "                             algorithm='kd_tree').fit(feature_list_compressed)"
      ],
      "execution_count": null,
      "outputs": []
    },
    {
      "cell_type": "markdown",
      "metadata": {
        "id": "OUeJORfzKdck",
        "colab_type": "text"
      },
      "source": [
        "Time the search for the k-d tree algorithm."
      ]
    },
    {
      "cell_type": "code",
      "metadata": {
        "id": "xuHRZbxdKdck",
        "colab_type": "code",
        "colab": {}
      },
      "source": [
        "%timeit neighbors.kneighbors([feature_list_compressed[random_image_index]])"
      ],
      "execution_count": null,
      "outputs": []
    },
    {
      "cell_type": "markdown",
      "metadata": {
        "id": "SdpHqjZ2Kdcp",
        "colab_type": "text"
      },
      "source": [
        "###  PCA + Ball Tree Algorithm  on one image\n",
        "\n",
        "Time the indexing for the ball tree algorithm."
      ]
    },
    {
      "cell_type": "code",
      "metadata": {
        "id": "efFU5UcsKdcq",
        "colab_type": "code",
        "colab": {}
      },
      "source": [
        "%timeit NearestNeighbors(n_neighbors=5, algorithm='ball_tree').fit(feature_list_compressed)\n",
        "neighbors = NearestNeighbors(\n",
        "    n_neighbors=5, algorithm='ball_tree').fit(feature_list_compressed)"
      ],
      "execution_count": null,
      "outputs": []
    },
    {
      "cell_type": "markdown",
      "metadata": {
        "id": "HNfKDzK4Kdcw",
        "colab_type": "text"
      },
      "source": [
        "Time the search for the ball tree algorithm."
      ]
    },
    {
      "cell_type": "code",
      "metadata": {
        "id": "Z4HNtnNPKdcx",
        "colab_type": "code",
        "colab": {}
      },
      "source": [
        "%timeit neighbors.kneighbors([feature_list_compressed[random_image_index]])"
      ],
      "execution_count": null,
      "outputs": []
    },
    {
      "cell_type": "markdown",
      "metadata": {
        "id": "HkH5r9ePKdc0",
        "colab_type": "text"
      },
      "source": [
        "We use the same random indices to experiment.\n",
        "\n",
        "Generate a list of images to do the next set of experiments on."
      ]
    },
    {
      "cell_type": "code",
      "metadata": {
        "id": "OQTzBZHBKdc0",
        "colab_type": "code",
        "colab": {}
      },
      "source": [
        "random_feature_list_compressed = [\n",
        "    feature_list_compressed[each_index] for each_index in random_image_indices\n",
        "]"
      ],
      "execution_count": null,
      "outputs": []
    },
    {
      "cell_type": "markdown",
      "metadata": {
        "id": "Ada4rBkwKdc3",
        "colab_type": "text"
      },
      "source": [
        "### PCA + Brute Force Algorithm on a set of images\n",
        "\n",
        "Time the search for the brute force algorithm."
      ]
    },
    {
      "cell_type": "code",
      "metadata": {
        "id": "6vwB5iLSKdc4",
        "colab_type": "code",
        "colab": {}
      },
      "source": [
        "neighbors = NearestNeighbors(n_neighbors=5,\n",
        "                             algorithm='brute',\n",
        "                             metric='euclidean').fit(feature_list_compressed)\n",
        "%timeit neighbors.kneighbors(random_feature_list_compressed)"
      ],
      "execution_count": null,
      "outputs": []
    },
    {
      "cell_type": "markdown",
      "metadata": {
        "id": "pe514D5TKdc7",
        "colab_type": "text"
      },
      "source": [
        "### PCA + k-d Tree Algorithm on a set of images\n",
        "\n",
        "Time the search for the k-d tree algorithm."
      ]
    },
    {
      "cell_type": "code",
      "metadata": {
        "id": "IqrFTX85Kdc8",
        "colab_type": "code",
        "colab": {}
      },
      "source": [
        "neighbors = NearestNeighbors(n_neighbors=5,\n",
        "                             algorithm='kd_tree').fit(feature_list_compressed)\n",
        "%timeit neighbors.kneighbors(random_feature_list_compressed)"
      ],
      "execution_count": null,
      "outputs": []
    },
    {
      "cell_type": "markdown",
      "metadata": {
        "id": "NpXjgqkGKddA",
        "colab_type": "text"
      },
      "source": [
        "### PCA + Ball Tree Algorithm on a set of images\n",
        "\n",
        "Time the search for the Ball Tree algorithm."
      ]
    },
    {
      "cell_type": "code",
      "metadata": {
        "id": "7GCF95EGKddB",
        "colab_type": "code",
        "colab": {}
      },
      "source": [
        "neighbors = NearestNeighbors(\n",
        "    n_neighbors=5, algorithm='ball_tree').fit(feature_list_compressed)\n",
        "%timeit neighbors.kneighbors(random_feature_list_compressed)"
      ],
      "execution_count": null,
      "outputs": []
    },
    {
      "cell_type": "markdown",
      "metadata": {
        "id": "oiWMMwVvKddE",
        "colab_type": "text"
      },
      "source": [
        "### Annoy \n",
        "\n",
        "We must have `annoy` installed. We can install it using pip, `pip3 install annoy`."
      ]
    },
    {
      "cell_type": "code",
      "metadata": {
        "id": "FbKnbxHrKddE",
        "colab_type": "code",
        "colab": {}
      },
      "source": [
        "from annoy import AnnoyIndex"
      ],
      "execution_count": null,
      "outputs": []
    },
    {
      "cell_type": "code",
      "metadata": {
        "id": "TFkKF7iRKddJ",
        "colab_type": "code",
        "colab": {}
      },
      "source": [
        "# Time the indexing for Annoy\n",
        "t = AnnoyIndex(2048)  # Length of item vector that will be indexed\n",
        "starttime = time.time()\n",
        "for i in range(num_images):\n",
        "    feature = feature_list[i]\n",
        "    t.add_item(i, feature)\n",
        "endtime = time.time()\n",
        "print(endtime - starttime)\n",
        "t.build(40)  # 50 trees\n",
        "t.save('data/caltech101index.ann')"
      ],
      "execution_count": null,
      "outputs": []
    },
    {
      "cell_type": "markdown",
      "metadata": {
        "id": "H3VCUdatKddO",
        "colab_type": "text"
      },
      "source": [
        "### Annoy on one image \n",
        "\n",
        "Time the search for one image for Annoy."
      ]
    },
    {
      "cell_type": "code",
      "metadata": {
        "id": "G5UlLd12KddO",
        "colab_type": "code",
        "colab": {}
      },
      "source": [
        "u = AnnoyIndex(2048)\n",
        "%timeit u.get_nns_by_vector(feature_list[random_image_index], 5, include_distances=True)\n",
        "indexes = u.get_nns_by_vector(feature_list[random_image_index],\n",
        "                              5,\n",
        "                              include_distances=True)"
      ],
      "execution_count": null,
      "outputs": []
    },
    {
      "cell_type": "markdown",
      "metadata": {
        "id": "ONJGQUpMKddR",
        "colab_type": "text"
      },
      "source": [
        "Helper function to time the search for multiple images for Annoy. Perform the search for the same image multiple times to get an average value.\n"
      ]
    },
    {
      "cell_type": "code",
      "metadata": {
        "id": "mjpm-Z2lKddR",
        "colab_type": "code",
        "colab": {}
      },
      "source": [
        "def calculate_annoy_time():\n",
        "    for i in range(0, 100):\n",
        "        indexes = u.get_nns_by_vector(feature_list[random_image_index],\n",
        "                                      5,\n",
        "                                      include_distances=True)"
      ],
      "execution_count": null,
      "outputs": []
    },
    {
      "cell_type": "markdown",
      "metadata": {
        "id": "mw3Lm7AGKddV",
        "colab_type": "text"
      },
      "source": [
        "### Annoy on a set of images\n",
        "\n",
        "Time the search for multiple images for Annoy."
      ]
    },
    {
      "cell_type": "code",
      "metadata": {
        "id": "2eUo3q8AKddV",
        "colab_type": "code",
        "colab": {}
      },
      "source": [
        "%time calculate_annoy_time()"
      ],
      "execution_count": null,
      "outputs": []
    },
    {
      "cell_type": "markdown",
      "metadata": {
        "id": "jBOjWM9zKddY",
        "colab_type": "text"
      },
      "source": [
        "### PCA + Annoy\n",
        "\n",
        "Now, let's time the indexing for Annoy for the PCA generated features."
      ]
    },
    {
      "cell_type": "code",
      "metadata": {
        "id": "R7OzZUeiKddZ",
        "colab_type": "code",
        "colab": {}
      },
      "source": [
        "starttime = time.time()\n",
        "# Length of item vector that will be indexed\n",
        "t = AnnoyIndex(num_feature_dimensions)\n",
        "\n",
        "for i in range(num_images):\n",
        "    feature = feature_list_compressed[i]\n",
        "    t.add_item(i, feature)\n",
        "endtime = time.time()\n",
        "print(endtime - starttime)\n",
        "t.build(40)  # 50 trees\n",
        "t.save('data/caltech101index.ann')"
      ],
      "execution_count": null,
      "outputs": []
    },
    {
      "cell_type": "markdown",
      "metadata": {
        "id": "aRGLwbJBKddd",
        "colab_type": "text"
      },
      "source": [
        "### PCA + Annoy for one image\n",
        "\n",
        "Time the search for one image for Annoy."
      ]
    },
    {
      "cell_type": "code",
      "metadata": {
        "id": "7M_at-vXKddd",
        "colab_type": "code",
        "colab": {}
      },
      "source": [
        "u = AnnoyIndex(num_feature_dimensions)\n",
        "%timeit u.get_nns_by_vector(feature_list_compressed[random_image_index], 5, include_distances=True)\n",
        "indexes = u.get_nns_by_vector(feature_list_compressed[random_image_index],\n",
        "                              5,\n",
        "                              include_distances=True)"
      ],
      "execution_count": null,
      "outputs": []
    },
    {
      "cell_type": "markdown",
      "metadata": {
        "id": "_rtbUwRMKddh",
        "colab_type": "text"
      },
      "source": [
        "Helper function to time the search for multiple images for Annoy. Perform the search for the same image multiple times to get an average value.\n"
      ]
    },
    {
      "cell_type": "code",
      "metadata": {
        "id": "IBDoFXQnKddn",
        "colab_type": "code",
        "colab": {}
      },
      "source": [
        "def calculate_annoy_time():\n",
        "    for i in range(0, 100):\n",
        "        indexes = u.get_nns_by_vector(\n",
        "            feature_list_compressed[random_image_index],\n",
        "            5,\n",
        "            include_distances=True)"
      ],
      "execution_count": null,
      "outputs": []
    },
    {
      "cell_type": "markdown",
      "metadata": {
        "id": "Vcn0aTaFKddq",
        "colab_type": "text"
      },
      "source": [
        "### PCA + Annoy on a set of images\n",
        "\n",
        "Time the search for multiple images for Annoy."
      ]
    },
    {
      "cell_type": "code",
      "metadata": {
        "id": "0muKzFFAKddr",
        "colab_type": "code",
        "colab": {}
      },
      "source": [
        "%time calculate_annoy_time()"
      ],
      "execution_count": null,
      "outputs": []
    },
    {
      "cell_type": "markdown",
      "metadata": {
        "id": "WOJpnKTqKddw",
        "colab_type": "text"
      },
      "source": [
        "### NMS Lib"
      ]
    },
    {
      "cell_type": "code",
      "metadata": {
        "id": "V3D4R2FcKdd1",
        "colab_type": "code",
        "colab": {}
      },
      "source": [
        "import nmslib"
      ],
      "execution_count": null,
      "outputs": []
    },
    {
      "cell_type": "code",
      "metadata": {
        "id": "tpvIukriKdd9",
        "colab_type": "code",
        "colab": {}
      },
      "source": [
        "index = nmslib.init(method='hnsw', space='cosinesimil')\n",
        "index.addDataPointBatch(feature_list_compressed)\n",
        "index.createIndex({'post': 2}, print_progress=True)"
      ],
      "execution_count": null,
      "outputs": []
    },
    {
      "cell_type": "markdown",
      "metadata": {
        "id": "yzYgm2UMKdeC",
        "colab_type": "text"
      },
      "source": [
        "### NMS Lib on one image"
      ]
    },
    {
      "cell_type": "code",
      "metadata": {
        "id": "KuPjkYkVKdeC",
        "colab_type": "code",
        "colab": {}
      },
      "source": [
        "# Query for the nearest neighbors of the first datapoint\n",
        "%timeit index.knnQuery(feature_list_compressed[random_image_index], k=5)\n",
        "ids, distances = index.knnQuery(feature_list_compressed[random_image_index],\n",
        "                                k=5)"
      ],
      "execution_count": null,
      "outputs": []
    },
    {
      "cell_type": "markdown",
      "metadata": {
        "id": "DugAqURmKdeH",
        "colab_type": "text"
      },
      "source": [
        "### NMS Lib on a set of images"
      ]
    },
    {
      "cell_type": "code",
      "metadata": {
        "id": "mCQXdqqQKdeI",
        "colab_type": "code",
        "colab": {}
      },
      "source": [
        "# Get all nearest neighbors for all the datapoint\n",
        "# using a pool of 4 threads to compute\n",
        "%timeit index.knnQueryBatch(feature_list_compressed, k=5, num_threads=16)\n",
        "neighbors = index.knnQueryBatch(feature_list_compressed, k=5, num_threads=16)"
      ],
      "execution_count": null,
      "outputs": []
    },
    {
      "cell_type": "markdown",
      "metadata": {
        "id": "k6Vs_91HKdeL",
        "colab_type": "text"
      },
      "source": [
        "### Falconn\n"
      ]
    },
    {
      "cell_type": "code",
      "metadata": {
        "id": "TXji2vVyKdeM",
        "colab_type": "code",
        "colab": {}
      },
      "source": [
        "import falconn"
      ],
      "execution_count": null,
      "outputs": []
    },
    {
      "cell_type": "code",
      "metadata": {
        "id": "9Jyk80LRKdeP",
        "colab_type": "code",
        "colab": {}
      },
      "source": [
        "# Setup different parameters for Falonn\n",
        "parameters = falconn.LSHConstructionParameters()\n",
        "num_tables = 1\n",
        "parameters.l = num_tables\n",
        "parameters.dimension = num_feature_dimensions\n",
        "parameters.distance_function = falconn.DistanceFunction.EuclideanSquared\n",
        "parameters.lsh_family = falconn.LSHFamily.CrossPolytope\n",
        "parameters.num_rotations = 1\n",
        "parameters.num_setup_threads = 1\n",
        "parameters.storage_hash_table = falconn.StorageHashTable.BitPackedFlatHashTable\n",
        "\n",
        "# Train the Falconn model\n",
        "falconn.compute_number_of_hash_functions(16, parameters)"
      ],
      "execution_count": null,
      "outputs": []
    },
    {
      "cell_type": "markdown",
      "metadata": {
        "id": "XBV6Uat1KdeU",
        "colab_type": "text"
      },
      "source": [
        "### Falconn on a set of images"
      ]
    },
    {
      "cell_type": "code",
      "metadata": {
        "id": "SMhczAh2KdeU",
        "colab_type": "code",
        "colab": {}
      },
      "source": [
        "dataset = np.array(feature_list_compressed)\n",
        "a = np.random.randn(8677, 100)\n",
        "a /= np.linalg.norm(a, axis=1).reshape(-1, 1)\n",
        "dataset = a\n",
        "\n",
        "index = falconn.LSHIndex(parameters)\n",
        "%time index.setup(dataset)\n",
        "\n",
        "query_object = index.construct_query_object()\n",
        "num_probes = 1\n",
        "query_object.set_num_probes(num_probes)\n",
        "\n",
        "searchQuery = np.array(feature_list_compressed[random_image_index])\n",
        "searchQuery = a[0]\n",
        "%timeit query_object.find_k_nearest_neighbors(searchQuery, 5)"
      ],
      "execution_count": null,
      "outputs": []
    },
    {
      "cell_type": "markdown",
      "metadata": {
        "id": "4cPK5jCUKdeX",
        "colab_type": "text"
      },
      "source": [
        "### PCA + Annoy"
      ]
    },
    {
      "cell_type": "code",
      "metadata": {
        "id": "BAP8-oloKdeY",
        "colab_type": "code",
        "colab": {}
      },
      "source": [
        "# Time the indexing for Annoy for the PCA generated features\n",
        "starttime = time.time()\n",
        "# Length of item vector that will be indexed\n",
        "t = AnnoyIndex(num_feature_dimensions)\n",
        "\n",
        "for i in range(num_images):\n",
        "    feature = dataset[i]\n",
        "    t.add_item(i, feature)\n",
        "endtime = time.time()\n",
        "print(endtime - starttime)\n",
        "t.build(40)  # 50 trees\n",
        "t.save('data/caltech101index.ann')"
      ],
      "execution_count": null,
      "outputs": []
    },
    {
      "cell_type": "code",
      "metadata": {
        "id": "bhHvJiy8Kdea",
        "colab_type": "code",
        "colab": {}
      },
      "source": [
        "u = AnnoyIndex(num_feature_dimensions)\n",
        "# Time the search for one image for Annoy\n",
        "%timeit u.get_nns_by_vector(dataset[random_image_index], 5, include_distances=True)\n",
        "indexes = u.get_nns_by_vector(dataset[random_image_index],\n",
        "                              5,\n",
        "                              include_distances=True)"
      ],
      "execution_count": null,
      "outputs": []
    }
  ]
}