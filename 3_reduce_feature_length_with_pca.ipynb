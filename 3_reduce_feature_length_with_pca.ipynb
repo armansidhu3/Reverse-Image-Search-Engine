{
  "nbformat": 4,
  "nbformat_minor": 0,
  "metadata": {
    "kernelspec": {
      "display_name": "Python 3",
      "language": "python",
      "name": "python3"
    },
    "language_info": {
      "codemirror_mode": {
        "name": "ipython",
        "version": 3
      },
      "file_extension": ".py",
      "mimetype": "text/x-python",
      "name": "python",
      "nbconvert_exporter": "python",
      "pygments_lexer": "ipython3",
      "version": "3.6.8"
    },
    "toc": {
      "base_numbering": 1,
      "nav_menu": {},
      "number_sections": true,
      "sideBar": true,
      "skip_h1_title": false,
      "title_cell": "Table of Contents",
      "title_sidebar": "Contents",
      "toc_cell": false,
      "toc_position": {},
      "toc_section_display": true,
      "toc_window_display": false
    },
    "colab": {
      "name": "3-reduce-feature-length-with-pca.ipynb",
      "provenance": [],
      "collapsed_sections": []
    }
  },
  "cells": [
    {
      "cell_type": "markdown",
      "metadata": {
        "id": "5eCWqUdjMaRR",
        "colab_type": "text"
      },
      "source": [
        "# Improving the speed of feature extraction and similarity search\n",
        "\n",
        "We will experiment with PCA and figure out what is the optimum length of the features to use in our experiments.\n",
        "\n",
        "## Reduce feature length with PCA\n",
        "\n",
        "As per the Practical Deep Learning book, PCA (short for Principal Component Analysis) is a statistical procedure that questions if features representing the data are equally important. PCA is considered one of the go-to techniques for dimensionality reduction. It does not eliminate redundant features, instead it generates a new set of features that are a linear combination of the input features. These linear features are orthogonal to each other, which is why all the redundant features are absent. These features are known as principal components. \n",
        "\n",
        "\n",
        "Performing PCA is pretty simple, using the scikit-learn library."
      ]
    },
    {
      "cell_type": "code",
      "metadata": {
        "id": "tkbrl0LZMaRS",
        "colab_type": "code",
        "colab": {}
      },
      "source": [
        "import numpy as np\n",
        "import pickle\n",
        "from tqdm import tqdm, tqdm_notebook\n",
        "import random\n",
        "import time\n",
        "from sklearn.manifold import TSNE\n",
        "from sklearn.decomposition import PCA\n",
        "import PIL\n",
        "from PIL import Image\n",
        "from sklearn.neighbors import NearestNeighbors\n",
        "import random\n",
        "import glob\n",
        "\n",
        "import matplotlib\n",
        "import matplotlib.pyplot as plt\n",
        "import matplotlib.image as mpimg\n",
        "matplotlib.rcParams['savefig.dpi'] = 160\n",
        "matplotlib.rcParams['figure.dpi'] = 160\n",
        "%matplotlib notebook"
      ],
      "execution_count": null,
      "outputs": []
    },
    {
      "cell_type": "markdown",
      "metadata": {
        "id": "k2RHIW9kMaRY",
        "colab_type": "text"
      },
      "source": [
        "We can run the following code on either the Caltech101 or the Caltech256 dataset."
      ]
    },
    {
      "cell_type": "code",
      "metadata": {
        "id": "KCXmmx2LMaRZ",
        "colab_type": "code",
        "colab": {}
      },
      "source": [
        "filenames = pickle.load(open('data/filenames-caltech101.pickle', 'rb'))\n",
        "feature_list = pickle.load(open('data/features-caltech101-resnet.pickle',\n",
        "                                'rb'))\n",
        "class_ids = pickle.load(open('data/class_ids-caltech101.pickle', 'rb'))"
      ],
      "execution_count": null,
      "outputs": []
    },
    {
      "cell_type": "code",
      "metadata": {
        "id": "cMc50WdCMaRd",
        "colab_type": "code",
        "colab": {}
      },
      "source": [
        "'''\n",
        "filenames = pickle.load(open('data/filenames-caltech256.pickle', 'rb'))\n",
        "feature_list = pickle.load(open('data/features-caltech256-resnet-finetuned.pickle', 'rb'))\n",
        "class_ids = pickle.load(open('data/class_ids-caltech256.pickle', 'rb'))\n",
        "'''"
      ],
      "execution_count": null,
      "outputs": []
    },
    {
      "cell_type": "code",
      "metadata": {
        "id": "samJrkZ_MaRg",
        "colab_type": "code",
        "colab": {}
      },
      "source": [
        "num_images = len(filenames)\n",
        "num_features_per_image = len(feature_list[0])\n",
        "print(\"Number of images = \", num_images)\n",
        "print(\"Number of features per image = \", num_features_per_image)"
      ],
      "execution_count": null,
      "outputs": []
    },
    {
      "cell_type": "code",
      "metadata": {
        "id": "-M88Uqz8MaRk",
        "colab_type": "code",
        "colab": {}
      },
      "source": [
        "# Helper function to get the classname\n",
        "def classname(str):\n",
        "    return str.split('/')[-2]\n",
        "\n",
        "\n",
        "# Helper function to get the classname and filename\n",
        "def classname_filename(str):\n",
        "    return str.split('/')[-2] + '/' + str.split('/')[-1]\n",
        "\n",
        "\n",
        "# Helper function that calculates accuracy using the nearest neighbors brute force algorithm\n",
        "def calculate_accuracy(feature_list):\n",
        "    num_nearest_neighbors = 5\n",
        "    correct_prediction = 0\n",
        "    incorrect_prediction = 0\n",
        "    neighbors = NearestNeighbors(n_neighbors=num_nearest_neighbors,\n",
        "                                 algorithm='brute',\n",
        "                                 metric='euclidean').fit(feature_list)\n",
        "    start = time.time()\n",
        "    for i in range(len(feature_list)):\n",
        "        distances, indices = neighbors.kneighbors([feature_list[i]])\n",
        "        for j in range(1, num_nearest_neighbors):\n",
        "            if (classname(filenames[i]) == classname(\n",
        "                    filenames[indices[0][j]])):\n",
        "                correct_prediction += 1\n",
        "            else:\n",
        "                incorrect_prediction += 1\n",
        "    end = time.time()\n",
        "    accuracy = round(\n",
        "        100.0 * correct_prediction /\n",
        "        (1.0 * correct_prediction + incorrect_prediction), 2), end - start\n",
        "    return accuracy"
      ],
      "execution_count": null,
      "outputs": []
    },
    {
      "cell_type": "code",
      "metadata": {
        "id": "ljRE7G32MaRp",
        "colab_type": "code",
        "colab": {}
      },
      "source": [
        "print(\"Accuracy on original feature set : \",\n",
        "      calculate_accuracy(feature_list[:]))"
      ],
      "execution_count": null,
      "outputs": []
    },
    {
      "cell_type": "code",
      "metadata": {
        "scrolled": false,
        "id": "RNEXxKioMaRt",
        "colab_type": "code",
        "colab": {}
      },
      "source": [
        "pca_dimensions = [1, 2, 3, 4, 5, 10, 20, 50, 75, 100, 150, 200]\n",
        "pca_accuracy = []\n",
        "pca_time = []\n",
        "\n",
        "for dimensions in pca_dimensions:\n",
        "    pca = PCA(n_components=dimensions)\n",
        "    pca.fit(feature_list)\n",
        "    feature_list_compressed = pca.transform(feature_list[:])\n",
        "    # Calculate accuracy over the compressed features\n",
        "    accuracy, t = calculate_accuracy(feature_list_compressed[:])\n",
        "    pca_time.append(t)\n",
        "    pca_accuracy.append(accuracy)\n",
        "    print(\"For PCA Dimensions = \", dimensions, \",\\tAccuracy = \", accuracy, \"%\",\n",
        "          \",\\tTime = \", pca_time[-1])"
      ],
      "execution_count": null,
      "outputs": []
    },
    {
      "cell_type": "markdown",
      "metadata": {
        "id": "aVpZSZTAMaRy",
        "colab_type": "text"
      },
      "source": [
        "Let's plot the test time accuracy for each PCA dimension."
      ]
    },
    {
      "cell_type": "code",
      "metadata": {
        "scrolled": false,
        "id": "t3t93A6mMaRz",
        "colab_type": "code",
        "colab": {}
      },
      "source": [
        "f = plt.figure()\n",
        "\n",
        "matplotlib.style.use('seaborn')\n",
        "plt.plot(pca_time, pca_accuracy, 'o--', markersize=5)\n",
        "for label, x, y in zip(pca_dimensions, pca_time, pca_accuracy):\n",
        "    plt.annotate(label, xy=(x, y), ha='right', va='bottom')\n",
        "plt.title('Test Time vs Accuracy for each PCA dimension')\n",
        "plt.xlabel('Test Time')\n",
        "plt.ylabel('Accuracy')\n",
        "plt.grid(True)\n",
        "plt.show()\n",
        "\n",
        "f.savefig(\"pca-test_time_vs_acc.pdf\", bbox_inches='tight')\n",
        "f.savefig(\"pca-test_time_vs_acc.png\", bbox_inches='tight')"
      ],
      "execution_count": null,
      "outputs": []
    },
    {
      "cell_type": "code",
      "metadata": {
        "id": "Gj5nDvdnMaR3",
        "colab_type": "code",
        "colab": {}
      },
      "source": [
        "f.savefig('pca-test_time_vs_acc.pdf', bbox_inches='tight')\n",
        "f.savefig('pca-test_time_vs_acc.png', transparent=False, bbox_inches='tight')"
      ],
      "execution_count": null,
      "outputs": []
    },
    {
      "cell_type": "markdown",
      "metadata": {
        "id": "w1IY0sJ6MaR7",
        "colab_type": "text"
      },
      "source": [
        "As visible in the graph, there is little improvement in accuracy after increasing beyond feature length of 100 dimensions. With almost 20 times lesser dimensions (100) that the original (2048), this offers drastically higher speed and less time on almost any search algorithm, while getting similar (and sometimes slightly better) accuracy. Hence, 100 would be an ideal feature length for this dataset. This also means that the first 100 dimensions contain the most information about the dataset.\n",
        "\n",
        "\n",
        "Let's plot the variance of each PCA dimension."
      ]
    },
    {
      "cell_type": "code",
      "metadata": {
        "id": "SafR3j1PMaR7",
        "colab_type": "code",
        "colab": {}
      },
      "source": [
        "f = plt.figure()\n",
        "\n",
        "matplotlib.style.use('seaborn')\n",
        "plt.plot(range(1, 201), pca.explained_variance_ratio_, 'o--', markersize=3)\n",
        "plt.title('Variance vs number of PCA dimensions')\n",
        "plt.xlabel('PCA Dimension Count')\n",
        "plt.ylabel('Variance')\n",
        "plt.grid(True)\n",
        "plt.show()\n",
        "\n",
        "f.savefig(\"Variance vs number of PCA dimensions.pdf\", bbox_inches='tight')\n",
        "f.savefig(\"Variance vs number of PCA dimensions.png\", bbox_inches='tight')"
      ],
      "execution_count": null,
      "outputs": []
    },
    {
      "cell_type": "markdown",
      "metadata": {
        "id": "kUwLSxC6MaR_",
        "colab_type": "text"
      },
      "source": [
        "The individual variance will tell us how important the newly added features are. For example, after the first 100 dimensions, the additional dimensions don’t add much variance (almost equal to 0) and can be neglected. Without even checking the accuracy it is safe to assume that the PCA with 100 dimensions will be a  robust model. Another way to look at this is to visualize how much of the original data is explained by the limited number of features by finding the cumulative variance.\n",
        "\n",
        "### Cumulative Variance vs number of PCA dimensions."
      ]
    },
    {
      "cell_type": "code",
      "metadata": {
        "id": "ypmiYau4MaR_",
        "colab_type": "code",
        "colab": {}
      },
      "source": [
        "f = plt.figure()\n",
        "\n",
        "matplotlib.style.use('seaborn')\n",
        "plt.plot(range(1, 201),\n",
        "         pca.explained_variance_ratio_.cumsum(),\n",
        "         'o--',\n",
        "         markersize=3)\n",
        "plt.title('Cumulative Variance vs number of PCA dimensions')\n",
        "plt.xlabel('PCA Dimension Count')\n",
        "plt.ylabel('Cumulative Variance')\n",
        "plt.grid(True)\n",
        "plt.show()\n",
        "\n",
        "f.savefig(\"Cumulative Variance vs number of PCA dimensions.pdf\",\n",
        "          bbox_inches='tight')\n",
        "f.savefig(\"Cumulative Variance vs number of PCA dimensions.png\",\n",
        "          bbox_inches='tight')"
      ],
      "execution_count": null,
      "outputs": []
    },
    {
      "cell_type": "markdown",
      "metadata": {
        "id": "cNiN9NdKMaSE",
        "colab_type": "text"
      },
      "source": [
        "As expected adding 100 dimensions (from 100 to 200) adds only .1 variance and starts to gradually plateau. For reference, using full 2048 features would result in a cumulative variance of 1. \n",
        "\n",
        "\n",
        "### Plotting the effect of PCA dimension vs Classification Accuracy."
      ]
    },
    {
      "cell_type": "code",
      "metadata": {
        "id": "3Zbp2DaXMaSE",
        "colab_type": "code",
        "colab": {}
      },
      "source": [
        "f = plt.figure()\n",
        "\n",
        "matplotlib.style.use('seaborn')\n",
        "plt.plot(pca_dimensions, pca_accuracy, 'o--', markersize=4)\n",
        "plt.title('Effect of PCA dimension vs Classification Accuracy')\n",
        "plt.xlabel('PCA Dimensions')\n",
        "plt.ylabel('Accuracy')\n",
        "plt.grid(True)\n",
        "plt.show()\n",
        "\n",
        "f.savefig(\"Effect of PCA dimension vs Classification Accuracy.pdf\",\n",
        "          bbox_inches='tight')\n",
        "f.savefig(\"Effect of PCA dimension vs Classification Accuracy.png\",\n",
        "          bbox_inches='tight')"
      ],
      "execution_count": null,
      "outputs": []
    },
    {
      "cell_type": "markdown",
      "metadata": {
        "id": "oJDNI3FVMaSJ",
        "colab_type": "text"
      },
      "source": [
        "As visible in the graph, there is little improvement in accuracy after increasing beyond feature length of 100 dimensions. With almost 20 times lesser dimensions (100) that the original (2048), this offers drastically higher speed and less time on almost any search algorithm, while getting similar (and sometimes slightly better) accuracy. Hence 100 would be an ideal feature length for this dataset."
      ]
    },
    {
      "cell_type": "markdown",
      "metadata": {
        "id": "3uKWkpPrMaSK",
        "colab_type": "text"
      },
      "source": [
        "We will now plot the effect of number of PCA dimensions vs time."
      ]
    },
    {
      "cell_type": "code",
      "metadata": {
        "id": "tDLCm2LZMaSK",
        "colab_type": "code",
        "colab": {}
      },
      "source": [
        "f = plt.figure()\n",
        "\n",
        "matplotlib.style.use('seaborn')\n",
        "plt.plot(pca_dimensions, pca_time, 'o--', markersize=4)\n",
        "plt.title('Effect of PCA dimensions vs Time')\n",
        "plt.xlabel('PCA Dimension Count')\n",
        "plt.ylabel('Time')\n",
        "plt.grid(True)\n",
        "plt.show()\n",
        "\n",
        "f.savefig(\"Effect of PCA dimensions vs Time.pdf\", bbox_inches='tight')\n",
        "f.savefig(\"Effect of PCA dimensions vs Time.png\", bbox_inches='tight')"
      ],
      "execution_count": null,
      "outputs": []
    },
    {
      "cell_type": "markdown",
      "metadata": {
        "id": "pmZlcG6LMaSO",
        "colab_type": "text"
      },
      "source": [
        "Now let's compare different options available for similarity search"
      ]
    },
    {
      "cell_type": "code",
      "metadata": {
        "id": "zE9vJKHfMaSP",
        "colab_type": "code",
        "colab": {}
      },
      "source": [
        "num_items = 100000\n",
        "num_dimensions = 100"
      ],
      "execution_count": null,
      "outputs": []
    },
    {
      "cell_type": "code",
      "metadata": {
        "id": "RlG3b-KwMaSS",
        "colab_type": "code",
        "colab": {}
      },
      "source": [
        "dataset = np.random.randn(num_items, num_dimensions)\n",
        "dataset /= np.linalg.norm(dataset, axis=1).reshape(-1, 1)"
      ],
      "execution_count": null,
      "outputs": []
    },
    {
      "cell_type": "code",
      "metadata": {
        "id": "O_4iz3zTMaSV",
        "colab_type": "code",
        "colab": {}
      },
      "source": [
        "randomIndex = random.randint(0, num_items)\n",
        "query = dataset[randomIndex]"
      ],
      "execution_count": null,
      "outputs": []
    },
    {
      "cell_type": "markdown",
      "metadata": {
        "id": "KVvd9XV2MaSa",
        "colab_type": "text"
      },
      "source": [
        "### Brute force"
      ]
    },
    {
      "cell_type": "code",
      "metadata": {
        "id": "z8zRQ5RAMaSb",
        "colab_type": "code",
        "colab": {}
      },
      "source": [
        "# Time the indexing for the brute force algorithm\n",
        "%timeit NearestNeighbors(n_neighbors=5, algorithm='brute', metric='euclidean').fit(dataset)"
      ],
      "execution_count": null,
      "outputs": []
    },
    {
      "cell_type": "code",
      "metadata": {
        "id": "kJ1ZkVsHMaSe",
        "colab_type": "code",
        "colab": {}
      },
      "source": [
        "# Time the search for the brute force algorithm\n",
        "neighbors = NearestNeighbors(n_neighbors=5,\n",
        "                             algorithm='brute',\n",
        "                             metric='euclidean').fit(dataset)\n",
        "%timeit neighbors.kneighbors([query])"
      ],
      "execution_count": null,
      "outputs": []
    },
    {
      "cell_type": "markdown",
      "metadata": {
        "id": "_871I8p3MaSh",
        "colab_type": "text"
      },
      "source": [
        "### k-d Tree"
      ]
    },
    {
      "cell_type": "code",
      "metadata": {
        "id": "RqQl6YswMaSh",
        "colab_type": "code",
        "colab": {}
      },
      "source": [
        "# Time the indexing for the k-d tree algorithm\n",
        "%timeit NearestNeighbors(n_neighbors=5, algorithm='kd_tree').fit(dataset)"
      ],
      "execution_count": null,
      "outputs": []
    },
    {
      "cell_type": "code",
      "metadata": {
        "id": "T5iIB4yeMaSm",
        "colab_type": "code",
        "colab": {}
      },
      "source": [
        "# Time the search for the k-d tree algorithm\n",
        "neighbors = NearestNeighbors(n_neighbors=5, algorithm='kd_tree').fit(dataset)\n",
        "%timeit neighbors.kneighbors([query])"
      ],
      "execution_count": null,
      "outputs": []
    },
    {
      "cell_type": "markdown",
      "metadata": {
        "id": "s2uNjZrMMaSp",
        "colab_type": "text"
      },
      "source": [
        "### Ball Tree"
      ]
    },
    {
      "cell_type": "code",
      "metadata": {
        "id": "ml3UlGqYMaSq",
        "colab_type": "code",
        "colab": {}
      },
      "source": [
        "# Time the indexing for the Ball Tree algorithm\n",
        "%timeit NearestNeighbors(n_neighbors=5, algorithm='ball_tree').fit(dataset)"
      ],
      "execution_count": null,
      "outputs": []
    },
    {
      "cell_type": "code",
      "metadata": {
        "id": "_Of_sdiwMaSu",
        "colab_type": "code",
        "colab": {}
      },
      "source": [
        "# Time the search for the Ball Tree algorithm\n",
        "neighbors = NearestNeighbors(n_neighbors=5, algorithm='ball_tree').fit(dataset)\n",
        "%timeit neighbors.kneighbors([query])"
      ],
      "execution_count": null,
      "outputs": []
    },
    {
      "cell_type": "code",
      "metadata": {
        "id": "Z8a60cjdMaSy",
        "colab_type": "code",
        "colab": {}
      },
      "source": [
        "#!pip3 install annoy"
      ],
      "execution_count": null,
      "outputs": []
    },
    {
      "cell_type": "markdown",
      "metadata": {
        "id": "Eocad1R9MaS2",
        "colab_type": "text"
      },
      "source": [
        "Now we have seen the time it takes to index and search using nearest neighbor algorithms on the full feature length. Now, we will use enhanced searching techniques like Faiss and Annoy to compress the features and reduce the time \n",
        "\n",
        "### Annoy\n",
        "\n",
        "Annoy (Approximate Nearest Neighbors Oh Yeah) is a C++ library with Python bindings for searching nearest neighbors. Synonymous with speed, it was released by Spotify and is used in production to serve their music recommendations. \n",
        "\n",
        "To use annoy, install it using pip:  `pip3 install annoy`"
      ]
    },
    {
      "cell_type": "code",
      "metadata": {
        "id": "Q6_NWLcVMaS4",
        "colab_type": "code",
        "colab": {}
      },
      "source": [
        "from annoy import AnnoyIndex"
      ],
      "execution_count": null,
      "outputs": []
    },
    {
      "cell_type": "code",
      "metadata": {
        "id": "Kqsid6aAMaS8",
        "colab_type": "code",
        "colab": {}
      },
      "source": [
        "# Choose a random image to experiment\n",
        "random_image_index = random.randint(0, num_items)"
      ],
      "execution_count": null,
      "outputs": []
    },
    {
      "cell_type": "markdown",
      "metadata": {
        "id": "pDhR5GioMaS-",
        "colab_type": "text"
      },
      "source": [
        "First, we build a search index with two hyperparameters - the number of dimensions of the dataset, and the number of trees. "
      ]
    },
    {
      "cell_type": "code",
      "metadata": {
        "id": "bOQMEOkxMaS_",
        "colab_type": "code",
        "colab": {}
      },
      "source": [
        "annoy_index = AnnoyIndex(\n",
        "    num_dimensions)  # Length of item vector that will be indexed\n",
        "for i in range(num_items):\n",
        "    annoy_index.add_item(i, dataset[i])\n",
        "annoy_index.build(40)  #40 trees"
      ],
      "execution_count": null,
      "outputs": []
    },
    {
      "cell_type": "markdown",
      "metadata": {
        "id": "e7kgF-_pMaTC",
        "colab_type": "text"
      },
      "source": [
        "Now let’s find out the time it takes to search the 5 nearest neighbors of one image."
      ]
    },
    {
      "cell_type": "code",
      "metadata": {
        "id": "ZvTRLwssMaTC",
        "colab_type": "code",
        "colab": {}
      },
      "source": [
        "#u = AnnoyIndex(num_dimensions)\n",
        "#Time the search for one image for Annoy\n",
        "%timeit annoy_index.get_nns_by_vector(query, 5, include_distances=True )"
      ],
      "execution_count": null,
      "outputs": []
    },
    {
      "cell_type": "markdown",
      "metadata": {
        "id": "nQ_u33zvMaTF",
        "colab_type": "text"
      },
      "source": [
        "Now THAT is blazing fast! To put this in perspective, for such a modestly sized dataset, this can serve almost 15000 requests on a single CPU core. Considering most CPUs have multiple cores, it should be able to handle 100K+ requests on a single system. The best part is that it lets us share the same index in memory between multiple processes. Hence, the biggest index can be equivalent to the size of our overall RAM, making it possible to serve multiple requests on a single system. \n",
        "\n",
        "Other benefits include that it generates a modestly sized index. Moreover, it decouples creating indexes from loading them, so we create an index on one machine, pass it around and then on our serving machine, load it in memory and serve it. \n",
        "\n",
        "Let's time the indexing for different number of tree:"
      ]
    },
    {
      "cell_type": "code",
      "metadata": {
        "id": "O99xgoT5MaTH",
        "colab_type": "code",
        "colab": {}
      },
      "source": [
        "annoy_training_time = []\n",
        "annoy_test_time = []\n",
        "annoy_trees = [\n",
        "    1, 2, 3, 4, 5, 10, 20, 30, 40, 50, 60, 70, 80, 90, 100, 200, 300\n",
        "]\n",
        "for num_trees in annoy_trees:\n",
        "    t = AnnoyIndex(2048)  # Length of item vector that will be indexed\n",
        "    for i in range(num_images):\n",
        "        feature = feature_list[i]\n",
        "        t.add_item(i, feature)\n",
        "    start_time = time.time()\n",
        "    t.build(num_trees)  #50 trees\n",
        "    end_time = time.time()\n",
        "    annoy_training_time.append(end_time - start_time)\n",
        "    start_time = time.time()\n",
        "    indices = t.get_nns_by_vector(feature_list[random_image_index],\n",
        "                                  5,\n",
        "                                  include_distances=True)\n",
        "    end_time = time.time()\n",
        "    annoy_test_time.append(end_time - start_time)\n",
        "    print(\"For number of trees = \", num_trees, \",\\tTime to train = \",\n",
        "          annoy_training_time[-1], \",\\tTime to test = \", annoy_test_time[-1])"
      ],
      "execution_count": null,
      "outputs": []
    },
    {
      "cell_type": "markdown",
      "metadata": {
        "id": "WU_OrC8uMaTL",
        "colab_type": "text"
      },
      "source": [
        "### Effect of number of trees vs Training time"
      ]
    },
    {
      "cell_type": "code",
      "metadata": {
        "id": "33Hlh3LLMaTM",
        "colab_type": "code",
        "colab": {}
      },
      "source": [
        "plt.plot(annoy_trees, annoy_training_time, 'or--')\n",
        "plt.title('Effect of number of trees vs Training time')\n",
        "plt.xlabel('Number of trees')\n",
        "plt.ylabel('Training Time')\n",
        "plt.grid(True)\n",
        "plt.show()"
      ],
      "execution_count": null,
      "outputs": []
    },
    {
      "cell_type": "markdown",
      "metadata": {
        "id": "QanLbcs9MaTP",
        "colab_type": "text"
      },
      "source": [
        "### Effect of number of trees vs Test time"
      ]
    },
    {
      "cell_type": "code",
      "metadata": {
        "id": "jH_jIwqIMaTQ",
        "colab_type": "code",
        "colab": {}
      },
      "source": [
        "plt.plot(annoy_trees, annoy_test_time, 'or--')\n",
        "plt.title('Effect of number of trees vs Test time')\n",
        "plt.xlabel('Number of trees')\n",
        "plt.ylabel('Test Time')\n",
        "plt.grid(True)\n",
        "plt.show()"
      ],
      "execution_count": null,
      "outputs": []
    },
    {
      "cell_type": "markdown",
      "metadata": {
        "id": "k5mqUKKfMaTT",
        "colab_type": "text"
      },
      "source": [
        "### NMS Lib"
      ]
    },
    {
      "cell_type": "code",
      "metadata": {
        "id": "bV1KhCDgMaTT",
        "colab_type": "code",
        "colab": {}
      },
      "source": [
        "import nmslib"
      ],
      "execution_count": null,
      "outputs": []
    },
    {
      "cell_type": "code",
      "metadata": {
        "id": "FB8AGiWhMaTW",
        "colab_type": "code",
        "colab": {}
      },
      "source": [
        "index = nmslib.init(method='hnsw', space='cosinesimil')\n",
        "index.addDataPointBatch(dataset)\n",
        "index.createIndex({'post': 2}, print_progress=True)"
      ],
      "execution_count": null,
      "outputs": []
    },
    {
      "cell_type": "code",
      "metadata": {
        "id": "Xr9IdBFCMaTZ",
        "colab_type": "code",
        "colab": {}
      },
      "source": [
        "# query for the nearest neighbors of the first datapoint\n",
        "%timeit index.knnQuery(query, k=5)\n",
        "ids, distances = index.knnQuery(query, k=5)"
      ],
      "execution_count": null,
      "outputs": []
    },
    {
      "cell_type": "code",
      "metadata": {
        "id": "xdchgaSnMaTf",
        "colab_type": "code",
        "colab": {}
      },
      "source": [
        "# Get all nearest neighbors for all the datapoint\n",
        "%timeit index.knnQueryBatch(dataset, k=5, num_threads=16)\n",
        "neighbors = index.knnQueryBatch(dataset, k=5, num_threads=16)"
      ],
      "execution_count": null,
      "outputs": []
    },
    {
      "cell_type": "markdown",
      "metadata": {
        "id": "p0n4ag2hMaTj",
        "colab_type": "text"
      },
      "source": [
        "### Falconn"
      ]
    },
    {
      "cell_type": "code",
      "metadata": {
        "id": "WnmoBF24MaTk",
        "colab_type": "code",
        "colab": {}
      },
      "source": [
        "import falconn"
      ],
      "execution_count": null,
      "outputs": []
    },
    {
      "cell_type": "code",
      "metadata": {
        "id": "HILcBFzQMaTn",
        "colab_type": "code",
        "colab": {}
      },
      "source": [
        "parameters = falconn.LSHConstructionParameters()\n",
        "num_tables = 1\n",
        "parameters.l = num_tables\n",
        "parameters.dimension = num_dimensions\n",
        "parameters.distance_function = falconn.DistanceFunction.EuclideanSquared\n",
        "parameters.lsh_family = falconn.LSHFamily.CrossPolytope\n",
        "parameters.num_rotations = 1\n",
        "parameters.num_setup_threads = 1\n",
        "parameters.storage_hash_table = falconn.StorageHashTable.BitPackedFlatHashTable\n",
        "falconn.compute_number_of_hash_functions(16, parameters)\n",
        "\n",
        "index = falconn.LSHIndex(parameters)\n",
        "%time index.setup(dataset)\n",
        "\n",
        "query_object = index.construct_query_object()\n",
        "num_probes = 1\n",
        "query_object.set_num_probes(num_probes)\n",
        "\n",
        "%timeit query_object.find_k_nearest_neighbors(query, 5)"
      ],
      "execution_count": null,
      "outputs": []
    },
    {
      "cell_type": "code",
      "metadata": {
        "scrolled": true,
        "id": "2Fxc6ouDMaTq",
        "colab_type": "code",
        "colab": {}
      },
      "source": [
        "query = dataset[5000]\n",
        "print(query_object.find_k_nearest_neighbors(query, 5))"
      ],
      "execution_count": null,
      "outputs": []
    }
  ]
}